{
  "nbformat": 4,
  "nbformat_minor": 0,
  "metadata": {
    "colab": {
      "provenance": []
    },
    "kernelspec": {
      "name": "python3",
      "display_name": "Python 3"
    },
    "language_info": {
      "name": "python"
    }
  },
  "cells": [
    {
      "cell_type": "markdown",
      "source": [
        "# **Quantum Finance Research: Portfolio Optimization Using VQE and QAOA**\n",
        "\n",
        "## **Introduction**\n",
        "This notebook implements and compares different quantum approaches to portfolio optimization using both Variational Quantum Eigensolver (VQE) and Quantum Approximate Optimization Algorithm (QAOA). We use Cirq, Google's quantum computing framework, to create and manipulate quantum circuits."
      ],
      "metadata": {
        "id": "BbpueKPnnT9j"
      }
    },
    {
      "cell_type": "markdown",
      "source": [
        "## **Setup and Dependencies**"
      ],
      "metadata": {
        "id": "4mYIAM-6nlJx"
      }
    },
    {
      "cell_type": "code",
      "source": [
        "!pip install cirq\n",
        "!pip install sympy\n",
        "!pip install numpy\n",
        "!pip install typing\n",
        "!pip install plotly"
      ],
      "metadata": {
        "colab": {
          "base_uri": "https://localhost:8080/"
        },
        "id": "ROQutEWPpoRc",
        "outputId": "a58f2caf-6aad-4597-cb77-4cdb04b813e6"
      },
      "execution_count": null,
      "outputs": [
        {
          "output_type": "stream",
          "name": "stdout",
          "text": [
            "Requirement already satisfied: cirq in /usr/local/lib/python3.10/dist-packages (1.4.1)\n",
            "Requirement already satisfied: cirq-aqt==1.4.1 in /usr/local/lib/python3.10/dist-packages (from cirq) (1.4.1)\n",
            "Requirement already satisfied: cirq-core==1.4.1 in /usr/local/lib/python3.10/dist-packages (from cirq) (1.4.1)\n",
            "Requirement already satisfied: cirq-google==1.4.1 in /usr/local/lib/python3.10/dist-packages (from cirq) (1.4.1)\n",
            "Requirement already satisfied: cirq-ionq==1.4.1 in /usr/local/lib/python3.10/dist-packages (from cirq) (1.4.1)\n",
            "Requirement already satisfied: cirq-pasqal==1.4.1 in /usr/local/lib/python3.10/dist-packages (from cirq) (1.4.1)\n",
            "Requirement already satisfied: cirq-rigetti==1.4.1 in /usr/local/lib/python3.10/dist-packages (from cirq) (1.4.1)\n",
            "Requirement already satisfied: cirq-web==1.4.1 in /usr/local/lib/python3.10/dist-packages (from cirq) (1.4.1)\n",
            "Requirement already satisfied: requests~=2.18 in /usr/local/lib/python3.10/dist-packages (from cirq-aqt==1.4.1->cirq) (2.32.3)\n",
            "Requirement already satisfied: attrs>=21.3.0 in /usr/local/lib/python3.10/dist-packages (from cirq-core==1.4.1->cirq) (24.3.0)\n",
            "Requirement already satisfied: duet>=0.2.8 in /usr/local/lib/python3.10/dist-packages (from cirq-core==1.4.1->cirq) (0.2.9)\n",
            "Requirement already satisfied: matplotlib~=3.0 in /usr/local/lib/python3.10/dist-packages (from cirq-core==1.4.1->cirq) (3.8.0)\n",
            "Requirement already satisfied: networkx>=2.4 in /usr/local/lib/python3.10/dist-packages (from cirq-core==1.4.1->cirq) (3.4.2)\n",
            "Requirement already satisfied: numpy~=1.22 in /usr/local/lib/python3.10/dist-packages (from cirq-core==1.4.1->cirq) (1.26.4)\n",
            "Requirement already satisfied: pandas in /usr/local/lib/python3.10/dist-packages (from cirq-core==1.4.1->cirq) (2.2.2)\n",
            "Requirement already satisfied: sortedcontainers~=2.0 in /usr/local/lib/python3.10/dist-packages (from cirq-core==1.4.1->cirq) (2.4.0)\n",
            "Requirement already satisfied: scipy~=1.0 in /usr/local/lib/python3.10/dist-packages (from cirq-core==1.4.1->cirq) (1.13.1)\n",
            "Requirement already satisfied: sympy in /usr/local/lib/python3.10/dist-packages (from cirq-core==1.4.1->cirq) (1.13.1)\n",
            "Requirement already satisfied: typing-extensions>=4.2 in /usr/local/lib/python3.10/dist-packages (from cirq-core==1.4.1->cirq) (4.12.2)\n",
            "Requirement already satisfied: tqdm in /usr/local/lib/python3.10/dist-packages (from cirq-core==1.4.1->cirq) (4.67.1)\n",
            "Requirement already satisfied: google-api-core>=1.14.0 in /usr/local/lib/python3.10/dist-packages (from google-api-core[grpc]>=1.14.0->cirq-google==1.4.1->cirq) (2.19.2)\n",
            "Requirement already satisfied: proto-plus>=1.20.0 in /usr/local/lib/python3.10/dist-packages (from cirq-google==1.4.1->cirq) (1.25.0)\n",
            "Requirement already satisfied: protobuf<5.0.0,>=3.15.0 in /usr/local/lib/python3.10/dist-packages (from cirq-google==1.4.1->cirq) (4.25.5)\n",
            "Requirement already satisfied: pyquil<5.0.0,>=4.11.0 in /usr/local/lib/python3.10/dist-packages (from cirq-rigetti==1.4.1->cirq) (4.15.0)\n",
            "Requirement already satisfied: googleapis-common-protos<2.0.dev0,>=1.56.2 in /usr/local/lib/python3.10/dist-packages (from google-api-core>=1.14.0->google-api-core[grpc]>=1.14.0->cirq-google==1.4.1->cirq) (1.66.0)\n",
            "Requirement already satisfied: google-auth<3.0.dev0,>=2.14.1 in /usr/local/lib/python3.10/dist-packages (from google-api-core>=1.14.0->google-api-core[grpc]>=1.14.0->cirq-google==1.4.1->cirq) (2.27.0)\n",
            "Requirement already satisfied: grpcio<2.0dev,>=1.33.2 in /usr/local/lib/python3.10/dist-packages (from google-api-core[grpc]>=1.14.0->cirq-google==1.4.1->cirq) (1.68.1)\n",
            "Requirement already satisfied: grpcio-status<2.0.dev0,>=1.33.2 in /usr/local/lib/python3.10/dist-packages (from google-api-core[grpc]>=1.14.0->cirq-google==1.4.1->cirq) (1.62.3)\n",
            "Requirement already satisfied: contourpy>=1.0.1 in /usr/local/lib/python3.10/dist-packages (from matplotlib~=3.0->cirq-core==1.4.1->cirq) (1.3.1)\n",
            "Requirement already satisfied: cycler>=0.10 in /usr/local/lib/python3.10/dist-packages (from matplotlib~=3.0->cirq-core==1.4.1->cirq) (0.12.1)\n",
            "Requirement already satisfied: fonttools>=4.22.0 in /usr/local/lib/python3.10/dist-packages (from matplotlib~=3.0->cirq-core==1.4.1->cirq) (4.55.3)\n",
            "Requirement already satisfied: kiwisolver>=1.0.1 in /usr/local/lib/python3.10/dist-packages (from matplotlib~=3.0->cirq-core==1.4.1->cirq) (1.4.7)\n",
            "Requirement already satisfied: packaging>=20.0 in /usr/local/lib/python3.10/dist-packages (from matplotlib~=3.0->cirq-core==1.4.1->cirq) (23.2)\n",
            "Requirement already satisfied: pillow>=6.2.0 in /usr/local/lib/python3.10/dist-packages (from matplotlib~=3.0->cirq-core==1.4.1->cirq) (11.0.0)\n",
            "Requirement already satisfied: pyparsing>=2.3.1 in /usr/local/lib/python3.10/dist-packages (from matplotlib~=3.0->cirq-core==1.4.1->cirq) (3.2.0)\n",
            "Requirement already satisfied: python-dateutil>=2.7 in /usr/local/lib/python3.10/dist-packages (from matplotlib~=3.0->cirq-core==1.4.1->cirq) (2.8.2)\n",
            "Requirement already satisfied: deprecated<2.0.0,>=1.2.14 in /usr/local/lib/python3.10/dist-packages (from pyquil<5.0.0,>=4.11.0->cirq-rigetti==1.4.1->cirq) (1.2.15)\n",
            "Requirement already satisfied: matplotlib-inline<0.2.0,>=0.1.7 in /usr/local/lib/python3.10/dist-packages (from pyquil<5.0.0,>=4.11.0->cirq-rigetti==1.4.1->cirq) (0.1.7)\n",
            "Requirement already satisfied: qcs-sdk-python>=0.20.1 in /usr/local/lib/python3.10/dist-packages (from pyquil<5.0.0,>=4.11.0->cirq-rigetti==1.4.1->cirq) (0.21.6)\n",
            "Requirement already satisfied: quil>=0.13.2 in /usr/local/lib/python3.10/dist-packages (from pyquil<5.0.0,>=4.11.0->cirq-rigetti==1.4.1->cirq) (0.13.2)\n",
            "Requirement already satisfied: rpcq<4.0.0,>=3.11.0 in /usr/local/lib/python3.10/dist-packages (from pyquil<5.0.0,>=4.11.0->cirq-rigetti==1.4.1->cirq) (3.11.0)\n",
            "Requirement already satisfied: types-deprecated<2.0.0.0,>=1.2.9.3 in /usr/local/lib/python3.10/dist-packages (from pyquil<5.0.0,>=4.11.0->cirq-rigetti==1.4.1->cirq) (1.2.15.20241117)\n",
            "Requirement already satisfied: charset-normalizer<4,>=2 in /usr/local/lib/python3.10/dist-packages (from requests~=2.18->cirq-aqt==1.4.1->cirq) (3.4.0)\n",
            "Requirement already satisfied: idna<4,>=2.5 in /usr/local/lib/python3.10/dist-packages (from requests~=2.18->cirq-aqt==1.4.1->cirq) (3.10)\n",
            "Requirement already satisfied: urllib3<3,>=1.21.1 in /usr/local/lib/python3.10/dist-packages (from requests~=2.18->cirq-aqt==1.4.1->cirq) (2.2.3)\n",
            "Requirement already satisfied: certifi>=2017.4.17 in /usr/local/lib/python3.10/dist-packages (from requests~=2.18->cirq-aqt==1.4.1->cirq) (2024.12.14)\n",
            "Requirement already satisfied: pytz>=2020.1 in /usr/local/lib/python3.10/dist-packages (from pandas->cirq-core==1.4.1->cirq) (2024.2)\n",
            "Requirement already satisfied: tzdata>=2022.7 in /usr/local/lib/python3.10/dist-packages (from pandas->cirq-core==1.4.1->cirq) (2024.2)\n",
            "Requirement already satisfied: mpmath<1.4,>=1.1.0 in /usr/local/lib/python3.10/dist-packages (from sympy->cirq-core==1.4.1->cirq) (1.3.0)\n",
            "Requirement already satisfied: wrapt<2,>=1.10 in /usr/local/lib/python3.10/dist-packages (from deprecated<2.0.0,>=1.2.14->pyquil<5.0.0,>=4.11.0->cirq-rigetti==1.4.1->cirq) (1.17.0)\n",
            "Requirement already satisfied: cachetools<6.0,>=2.0.0 in /usr/local/lib/python3.10/dist-packages (from google-auth<3.0.dev0,>=2.14.1->google-api-core>=1.14.0->google-api-core[grpc]>=1.14.0->cirq-google==1.4.1->cirq) (5.5.0)\n",
            "Requirement already satisfied: pyasn1-modules>=0.2.1 in /usr/local/lib/python3.10/dist-packages (from google-auth<3.0.dev0,>=2.14.1->google-api-core>=1.14.0->google-api-core[grpc]>=1.14.0->cirq-google==1.4.1->cirq) (0.4.1)\n",
            "Requirement already satisfied: rsa<5,>=3.1.4 in /usr/local/lib/python3.10/dist-packages (from google-auth<3.0.dev0,>=2.14.1->google-api-core>=1.14.0->google-api-core[grpc]>=1.14.0->cirq-google==1.4.1->cirq) (4.9)\n",
            "Requirement already satisfied: traitlets in /usr/local/lib/python3.10/dist-packages (from matplotlib-inline<0.2.0,>=0.1.7->pyquil<5.0.0,>=4.11.0->cirq-rigetti==1.4.1->cirq) (5.7.1)\n",
            "Requirement already satisfied: six>=1.5 in /usr/local/lib/python3.10/dist-packages (from python-dateutil>=2.7->matplotlib~=3.0->cirq-core==1.4.1->cirq) (1.17.0)\n",
            "Requirement already satisfied: qcs-api-client-common>=0.10.0 in /usr/local/lib/python3.10/dist-packages (from qcs-sdk-python>=0.20.1->pyquil<5.0.0,>=4.11.0->cirq-rigetti==1.4.1->cirq) (0.10.0)\n",
            "Requirement already satisfied: msgpack<2.0,>=0.6 in /usr/local/lib/python3.10/dist-packages (from rpcq<4.0.0,>=3.11.0->pyquil<5.0.0,>=4.11.0->cirq-rigetti==1.4.1->cirq) (1.1.0)\n",
            "Requirement already satisfied: python-rapidjson in /usr/local/lib/python3.10/dist-packages (from rpcq<4.0.0,>=3.11.0->pyquil<5.0.0,>=4.11.0->cirq-rigetti==1.4.1->cirq) (1.20)\n",
            "Requirement already satisfied: pyzmq>=17 in /usr/local/lib/python3.10/dist-packages (from rpcq<4.0.0,>=3.11.0->pyquil<5.0.0,>=4.11.0->cirq-rigetti==1.4.1->cirq) (24.0.1)\n",
            "Requirement already satisfied: ruamel.yaml in /usr/local/lib/python3.10/dist-packages (from rpcq<4.0.0,>=3.11.0->pyquil<5.0.0,>=4.11.0->cirq-rigetti==1.4.1->cirq) (0.18.6)\n",
            "Requirement already satisfied: pyasn1<0.7.0,>=0.4.6 in /usr/local/lib/python3.10/dist-packages (from pyasn1-modules>=0.2.1->google-auth<3.0.dev0,>=2.14.1->google-api-core>=1.14.0->google-api-core[grpc]>=1.14.0->cirq-google==1.4.1->cirq) (0.6.1)\n",
            "Requirement already satisfied: grpc-interceptor>=0.15.0 in /usr/local/lib/python3.10/dist-packages (from qcs-api-client-common>=0.10.0->qcs-sdk-python>=0.20.1->pyquil<5.0.0,>=4.11.0->cirq-rigetti==1.4.1->cirq) (0.15.4)\n",
            "Requirement already satisfied: httpx>=0.27.0 in /usr/local/lib/python3.10/dist-packages (from qcs-api-client-common>=0.10.0->qcs-sdk-python>=0.20.1->pyquil<5.0.0,>=4.11.0->cirq-rigetti==1.4.1->cirq) (0.28.1)\n",
            "Requirement already satisfied: ruamel.yaml.clib>=0.2.7 in /usr/local/lib/python3.10/dist-packages (from ruamel.yaml->rpcq<4.0.0,>=3.11.0->pyquil<5.0.0,>=4.11.0->cirq-rigetti==1.4.1->cirq) (0.2.12)\n",
            "Requirement already satisfied: anyio in /usr/local/lib/python3.10/dist-packages (from httpx>=0.27.0->qcs-api-client-common>=0.10.0->qcs-sdk-python>=0.20.1->pyquil<5.0.0,>=4.11.0->cirq-rigetti==1.4.1->cirq) (3.7.1)\n",
            "Requirement already satisfied: httpcore==1.* in /usr/local/lib/python3.10/dist-packages (from httpx>=0.27.0->qcs-api-client-common>=0.10.0->qcs-sdk-python>=0.20.1->pyquil<5.0.0,>=4.11.0->cirq-rigetti==1.4.1->cirq) (1.0.7)\n",
            "Requirement already satisfied: h11<0.15,>=0.13 in /usr/local/lib/python3.10/dist-packages (from httpcore==1.*->httpx>=0.27.0->qcs-api-client-common>=0.10.0->qcs-sdk-python>=0.20.1->pyquil<5.0.0,>=4.11.0->cirq-rigetti==1.4.1->cirq) (0.14.0)\n",
            "Requirement already satisfied: sniffio>=1.1 in /usr/local/lib/python3.10/dist-packages (from anyio->httpx>=0.27.0->qcs-api-client-common>=0.10.0->qcs-sdk-python>=0.20.1->pyquil<5.0.0,>=4.11.0->cirq-rigetti==1.4.1->cirq) (1.3.1)\n",
            "Requirement already satisfied: exceptiongroup in /usr/local/lib/python3.10/dist-packages (from anyio->httpx>=0.27.0->qcs-api-client-common>=0.10.0->qcs-sdk-python>=0.20.1->pyquil<5.0.0,>=4.11.0->cirq-rigetti==1.4.1->cirq) (1.2.2)\n"
          ]
        },
        {
          "output_type": "stream",
          "name": "stderr",
          "text": [
            "Exception in thread Thread-5 (attachment_entry):\n",
            "Traceback (most recent call last):\n",
            "  File \"/usr/local/lib/python3.10/dist-packages/debugpy/server/api.py\", line 237, in listen\n",
            "    sock, _ = endpoints_listener.accept()\n",
            "  File \"/usr/lib/python3.10/socket.py\", line 293, in accept\n",
            "    fd, addr = self._accept()\n",
            "TimeoutError: timed out\n",
            "\n",
            "During handling of the above exception, another exception occurred:\n",
            "\n",
            "Traceback (most recent call last):\n",
            "  File \"/usr/lib/python3.10/threading.py\", line 1016, in _bootstrap_inner\n",
            "    self.run()\n",
            "  File \"/usr/lib/python3.10/threading.py\", line 953, in run\n",
            "    self._target(*self._args, **self._kwargs)\n",
            "  File \"/usr/local/lib/python3.10/dist-packages/google/colab/_debugpy.py\", line 52, in attachment_entry\n",
            "    debugpy.listen(_dap_port)\n",
            "  File \"/usr/local/lib/python3.10/dist-packages/debugpy/public_api.py\", line 31, in wrapper\n",
            "    return wrapped(*args, **kwargs)\n",
            "  File \"/usr/local/lib/python3.10/dist-packages/debugpy/server/api.py\", line 143, in debug\n",
            "    log.reraise_exception(\"{0}() failed:\", func.__name__, level=\"info\")\n",
            "  File \"/usr/local/lib/python3.10/dist-packages/debugpy/server/api.py\", line 141, in debug\n",
            "    return func(address, settrace_kwargs, **kwargs)\n",
            "  File \"/usr/local/lib/python3.10/dist-packages/debugpy/server/api.py\", line 251, in listen\n",
            "    raise RuntimeError(\"timed out waiting for adapter to connect\")\n",
            "RuntimeError: timed out waiting for adapter to connect\n"
          ]
        },
        {
          "output_type": "stream",
          "name": "stdout",
          "text": [
            "Requirement already satisfied: sympy in /usr/local/lib/python3.10/dist-packages (1.13.1)\n",
            "Requirement already satisfied: mpmath<1.4,>=1.1.0 in /usr/local/lib/python3.10/dist-packages (from sympy) (1.3.0)\n",
            "Requirement already satisfied: numpy in /usr/local/lib/python3.10/dist-packages (1.26.4)\n",
            "Requirement already satisfied: typing in /usr/local/lib/python3.10/dist-packages (3.7.4.3)\n",
            "Requirement already satisfied: plotly in /usr/local/lib/python3.10/dist-packages (5.24.1)\n",
            "Requirement already satisfied: tenacity>=6.2.0 in /usr/local/lib/python3.10/dist-packages (from plotly) (9.0.0)\n",
            "Requirement already satisfied: packaging in /usr/local/lib/python3.10/dist-packages (from plotly) (23.2)\n"
          ]
        }
      ]
    },
    {
      "cell_type": "markdown",
      "source": [
        "## **Portfolio Optimization Parameters**\n",
        "We define a dataclass to hold our portfolio optimization parameters:"
      ],
      "metadata": {
        "id": "gy2TJ59UnwPK"
      }
    },
    {
      "cell_type": "code",
      "source": [
        "import numpy as np\n",
        "import cirq\n",
        "import sympy\n",
        "from typing import List, Tuple, Dict, Literal\n",
        "import time\n",
        "from dataclasses import dataclass\n",
        "\n",
        "@dataclass\n",
        "class PortfolioParams:\n",
        "    \"\"\"Parameters for portfolio optimization\"\"\"\n",
        "    returns: np.ndarray\n",
        "    risk_tolerance: float\n",
        "    n_layers: int = 2\n",
        "    max_iterations: int = 100\n",
        "    learning_rate: float = 0.01\n",
        "    algorithm: Literal['VQE', 'QAOA'] = 'VQE'"
      ],
      "metadata": {
        "id": "7Ok4n8BdplnM"
      },
      "execution_count": null,
      "outputs": []
    },
    {
      "cell_type": "markdown",
      "source": [
        "\n",
        "## **Quantum Circuit Implementation**\n",
        "### **VQE Circuit Creation**"
      ],
      "metadata": {
        "id": "10CeHwuOo4Ao"
      }
    },
    {
      "cell_type": "code",
      "source": [
        "def create_vqe_circuit(n_qubits: int, n_layers: int) -> Tuple[cirq.Circuit, List[sympy.Symbol]]:\n",
        "    \"\"\"\n",
        "    Creates a variational quantum circuit with multiple layers for VQE\n",
        "    \"\"\"\n",
        "    qubits = cirq.LineQubit.range(n_qubits)\n",
        "    circuit = cirq.Circuit()\n",
        "    parameters = []\n",
        "\n",
        "    # Initial layer of Hadamard gates\n",
        "    circuit.append(cirq.H(q) for q in qubits)\n",
        "\n",
        "    # Create multiple layers of parameterized gates\n",
        "    for layer in range(n_layers):\n",
        "        # Rotation layer\n",
        "        for i in range(n_qubits):\n",
        "            theta = sympy.Symbol(f'θ_{layer}_{i}')\n",
        "            parameters.append(theta)\n",
        "            circuit.append(cirq.ry(theta)(qubits[i]))\n",
        "\n",
        "        # Entanglement layer\n",
        "        for i in range(n_qubits-1):\n",
        "            circuit.append(cirq.CNOT(qubits[i], qubits[i+1]))\n",
        "        circuit.append(cirq.CNOT(qubits[-1], qubits[0]))\n",
        "\n",
        "    return circuit, parameters"
      ],
      "metadata": {
        "id": "8eCFlhc7oMgf"
      },
      "execution_count": null,
      "outputs": []
    },
    {
      "cell_type": "markdown",
      "source": [
        "### **QAOA Circuit Creation**"
      ],
      "metadata": {
        "id": "Wsj_CSrVo72P"
      }
    },
    {
      "cell_type": "code",
      "source": [
        "def create_qaoa_circuit(n_assets: int, p: int) -> Tuple[cirq.Circuit, List[sympy.Symbol]]:\n",
        "    \"\"\"\n",
        "    Creates a QAOA circuit for portfolio optimization\n",
        "    p: number of QAOA layers\n",
        "    \"\"\"\n",
        "    qubits = cirq.LineQubit.range(n_assets)\n",
        "    circuit = cirq.Circuit()\n",
        "    parameters = []\n",
        "\n",
        "    # Initial state preparation\n",
        "    circuit.append(cirq.H(q) for q in qubits)\n",
        "\n",
        "    for i in range(p):\n",
        "        # Problem unitary (cost Hamiltonian)\n",
        "        gamma = sympy.Symbol(f'γ_{i}')\n",
        "        parameters.append(gamma)\n",
        "\n",
        "        # Risk minimization terms\n",
        "        for j in range(n_assets):\n",
        "            for k in range(j+1, n_assets):\n",
        "                circuit.append(cirq.ZZ(qubits[j], qubits[k])**gamma)\n",
        "\n",
        "        # Return maximization terms\n",
        "        for j in range(n_assets):\n",
        "            circuit.append(cirq.Z(qubits[j])**gamma)\n",
        "\n",
        "        # Mixing unitary\n",
        "        beta = sympy.Symbol(f'β_{i}')\n",
        "        parameters.append(beta)\n",
        "        circuit.append(cirq.rx(2*beta)(q) for q in qubits)\n",
        "\n",
        "    return circuit, parameters"
      ],
      "metadata": {
        "id": "BmZt-CF-n-81"
      },
      "execution_count": null,
      "outputs": []
    },
    {
      "cell_type": "markdown",
      "source": [
        "## **Cost Function and Optimization**"
      ],
      "metadata": {
        "id": "rqhKlYFRo_LO"
      }
    },
    {
      "cell_type": "code",
      "source": [
        "def cost_function(params: np.ndarray,\n",
        "                 simulator: cirq.Simulator,\n",
        "                 circuit: cirq.Circuit,\n",
        "                 param_symbols: List[sympy.Symbol],\n",
        "                 portfolio_params: PortfolioParams) -> float:\n",
        "    \"\"\"\n",
        "    Calculate cost function for portfolio optimization\n",
        "    \"\"\"\n",
        "    # Get measurement results\n",
        "    param_dict = dict(zip(param_symbols, params))\n",
        "    result = simulator.simulate(circuit, param_resolver=param_dict)\n",
        "    final_state = result.final_state_vector\n",
        "\n",
        "    # Convert quantum state to portfolio weights\n",
        "    probabilities = np.abs(final_state) ** 2\n",
        "    weights = probabilities[:portfolio_params.returns.shape[1]]\n",
        "    weights = weights / np.sum(weights)\n",
        "\n",
        "    # Calculate portfolio metrics\n",
        "    returns = portfolio_params.returns\n",
        "    mean_return = np.mean(np.dot(returns, weights))\n",
        "    covariance = np.cov(returns.T)\n",
        "    risk = np.dot(weights.T, np.dot(covariance, weights))\n",
        "\n",
        "    # Maximize return while minimizing risk\n",
        "    cost = -mean_return + portfolio_params.risk_tolerance * risk\n",
        "    return float(cost)\n",
        "\n",
        "def quantum_gradient(params: np.ndarray,\n",
        "                    simulator: cirq.Simulator,\n",
        "                    circuit: cirq.Circuit,\n",
        "                    param_symbols: List[sympy.Symbol],\n",
        "                    portfolio_params: PortfolioParams,\n",
        "                    epsilon: float = 0.01) -> np.ndarray:\n",
        "    \"\"\"\n",
        "    Calculate gradient using finite differences\n",
        "    \"\"\"\n",
        "    gradient = np.zeros_like(params)\n",
        "    for i in range(len(params)):\n",
        "        params_plus = params.copy()\n",
        "        params_plus[i] += epsilon\n",
        "        cost_plus = cost_function(params_plus, simulator, circuit, param_symbols, portfolio_params)\n",
        "\n",
        "        params_minus = params.copy()\n",
        "        params_minus[i] -= epsilon\n",
        "        cost_minus = cost_function(params_minus, simulator, circuit, param_symbols, portfolio_params)\n",
        "\n",
        "        gradient[i] = (cost_plus - cost_minus) / (2 * epsilon)\n",
        "    return gradient\n",
        "\n",
        "def quantum_portfolio_optimization(portfolio_params: PortfolioParams) -> np.ndarray:\n",
        "    \"\"\"\n",
        "    Quantum portfolio optimization using either VQE or QAOA\n",
        "    \"\"\"\n",
        "    n_assets = portfolio_params.returns.shape[1]\n",
        "\n",
        "    # Create quantum circuit based on selected algorithm\n",
        "    if portfolio_params.algorithm == 'VQE':\n",
        "        circuit, param_symbols = create_vqe_circuit(n_assets, portfolio_params.n_layers)\n",
        "    else:  # QAOA\n",
        "        circuit, param_symbols = create_qaoa_circuit(n_assets, portfolio_params.n_layers)\n",
        "\n",
        "    # Initialize simulator\n",
        "    simulator = cirq.Simulator()\n",
        "\n",
        "    # Initialize parameters randomly\n",
        "    params = np.random.uniform(0, 2*np.pi, len(param_symbols))\n",
        "\n",
        "    # Optimization loop\n",
        "    for iteration in range(portfolio_params.max_iterations):\n",
        "        # Calculate gradient\n",
        "        gradient = quantum_gradient(params, simulator, circuit, param_symbols, portfolio_params)\n",
        "\n",
        "        # Update parameters\n",
        "        params -= portfolio_params.learning_rate * gradient\n",
        "\n",
        "        if iteration % 10 == 0:\n",
        "            cost = cost_function(params, simulator, circuit, param_symbols, portfolio_params)\n",
        "            print(f\"{portfolio_params.algorithm} Iteration {iteration}, Cost: {cost:.4f}\")\n",
        "\n",
        "    # Get final weights\n",
        "    param_dict = dict(zip(param_symbols, params))\n",
        "    result = simulator.simulate(circuit, param_resolver=param_dict)\n",
        "    final_state = result.final_state_vector\n",
        "    weights = np.abs(final_state[:n_assets]) ** 2\n",
        "    return weights / np.sum(weights)\n",
        "\n",
        "def classical_portfolio_optimization(returns: np.ndarray, risk_tolerance: float) -> np.ndarray:\n",
        "    \"\"\"\n",
        "    Implement classical portfolio optimization using mean-variance optimization\n",
        "    \"\"\"\n",
        "    n_assets = returns.shape[1]\n",
        "    mean_returns = np.mean(returns, axis=0)\n",
        "    covariance = np.cov(returns.T)\n",
        "\n",
        "    # Simple implementation using equal weights (you can implement more sophisticated methods)\n",
        "    weights = np.ones(n_assets) / n_assets\n",
        "    return weights\n",
        "\n",
        "def compare_optimization_methods():\n",
        "    \"\"\"\n",
        "    Compare classical, VQE, and QAOA portfolio optimization\n",
        "    \"\"\"\n",
        "    # Generate sample data\n",
        "    np.random.seed(42)\n",
        "    n_assets = 4\n",
        "    n_days = 252\n",
        "    returns = np.random.normal(0.001, 0.02, (n_days, n_assets))\n",
        "\n",
        "    # Common parameters\n",
        "    base_params = {\n",
        "        'returns': returns,\n",
        "        'risk_tolerance': 0.5,\n",
        "        'n_layers': 2,\n",
        "        'max_iterations': 50,\n",
        "        'learning_rate': 0.05\n",
        "    }\n",
        "\n",
        "    # Classical optimization\n",
        "    start_time = time.time()\n",
        "    classical_weights = classical_portfolio_optimization(returns, base_params['risk_tolerance'])\n",
        "    classical_time = time.time() - start_time\n",
        "\n",
        "    # VQE optimization\n",
        "    start_time = time.time()\n",
        "    vqe_params = PortfolioParams(**base_params, algorithm='VQE')\n",
        "    vqe_weights = quantum_portfolio_optimization(vqe_params)\n",
        "    vqe_time = time.time() - start_time\n",
        "\n",
        "    # QAOA optimization\n",
        "    start_time = time.time()\n",
        "    qaoa_params = PortfolioParams(**base_params, algorithm='QAOA')\n",
        "    qaoa_weights = quantum_portfolio_optimization(qaoa_params)\n",
        "    qaoa_time = time.time() - start_time\n",
        "\n",
        "    # Calculate metrics for all portfolios\n",
        "    covariance = np.cov(returns.T)\n",
        "    mean_returns = np.mean(returns, axis=0)\n",
        "\n",
        "    def calculate_metrics(weights):\n",
        "        return {\n",
        "            'expected_return': np.dot(mean_returns, weights),\n",
        "            'risk': np.sqrt(np.dot(weights.T, np.dot(covariance, weights))),\n",
        "            'sharpe_ratio': np.dot(mean_returns, weights) /\n",
        "                           np.sqrt(np.dot(weights.T, np.dot(covariance, weights)))\n",
        "        }\n",
        "\n",
        "    # Print results for all methods\n",
        "    methods = {\n",
        "        'Classical': (classical_weights, classical_time),\n",
        "        'VQE': (vqe_weights, vqe_time),\n",
        "        'QAOA': (qaoa_weights, qaoa_time)\n",
        "    }\n",
        "\n",
        "    for method_name, (weights, comp_time) in methods.items():\n",
        "        metrics = calculate_metrics(weights)\n",
        "        print(f\"\\n{method_name} Portfolio:\")\n",
        "        print(f\"Weights: {weights}\")\n",
        "        print(f\"Expected Return: {metrics['expected_return']:.4f}\")\n",
        "        print(f\"Risk: {metrics['risk']:.4f}\")\n",
        "        print(f\"Sharpe Ratio: {metrics['sharpe_ratio']:.4f}\")\n",
        "        print(f\"Computation Time: {comp_time:.4f} seconds\")"
      ],
      "metadata": {
        "id": "jnucCfQUoW6v"
      },
      "execution_count": null,
      "outputs": []
    },
    {
      "cell_type": "markdown",
      "source": [
        "## **Results Visualization**"
      ],
      "metadata": {
        "id": "bEbeDoQgpESs"
      }
    },
    {
      "cell_type": "code",
      "source": [
        "import matplotlib.pyplot as plt\n",
        "import numpy as np\n",
        "\n",
        "def plot_portfolio_results():\n",
        "    # Re-run optimization to get fresh results\n",
        "    np.random.seed(42)\n",
        "    n_assets = 4\n",
        "    n_days = 252\n",
        "    returns = np.random.normal(0.001, 0.02, (n_days, n_assets))\n",
        "\n",
        "    base_params = {\n",
        "        'returns': returns,\n",
        "        'risk_tolerance': 0.5,\n",
        "        'n_layers': 2,\n",
        "        'max_iterations': 50,\n",
        "        'learning_rate': 0.05\n",
        "    }\n",
        "\n",
        "    # Get results\n",
        "    classical_weights = classical_portfolio_optimization(returns, base_params['risk_tolerance'])\n",
        "    vqe_params = PortfolioParams(**base_params, algorithm='VQE')\n",
        "    vqe_weights = quantum_portfolio_optimization(vqe_params)\n",
        "    qaoa_params = PortfolioParams(**base_params, algorithm='QAOA')\n",
        "    qaoa_weights = quantum_portfolio_optimization(qaoa_params)\n",
        "\n",
        "    # Create figure with subplots\n",
        "    fig, (ax1, ax2) = plt.subplots(2, 1, figsize=(12, 10))\n",
        "\n",
        "    # Plot 1: Portfolio Weights\n",
        "    x = np.arange(4)\n",
        "    width = 0.25\n",
        "\n",
        "    ax1.bar(x - width, classical_weights * 100, width, label='Classical', color='skyblue')\n",
        "    ax1.bar(x, vqe_weights * 100, width, label='VQE', color='royalblue')\n",
        "    ax1.bar(x + width, qaoa_weights * 100, width, label='QAOA', color='navy')\n",
        "\n",
        "    ax1.set_ylabel('Weight (%)')\n",
        "    ax1.set_title('Portfolio Weight Distribution')\n",
        "    ax1.set_xticks(x)\n",
        "    ax1.set_xticklabels(['Asset 1', 'Asset 2', 'Asset 3', 'Asset 4'])\n",
        "    ax1.legend()\n",
        "    ax1.grid(True, alpha=0.3)\n",
        "\n",
        "    # Calculate metrics for Plot 2\n",
        "    def get_metrics(weights):\n",
        "        mean_returns = np.mean(returns, axis=0)\n",
        "        covariance = np.cov(returns.T)\n",
        "        exp_return = np.dot(mean_returns, weights) * 100\n",
        "        risk = np.sqrt(np.dot(weights.T, np.dot(covariance, weights))) * 100\n",
        "        sharpe = exp_return / risk\n",
        "        return [exp_return, risk, sharpe]\n",
        "\n",
        "    metrics_classical = get_metrics(classical_weights)\n",
        "    metrics_vqe = get_metrics(vqe_weights)\n",
        "    metrics_qaoa = get_metrics(qaoa_weights)\n",
        "\n",
        "    # Plot 2: Performance Metrics\n",
        "    metrics = np.array([metrics_classical, metrics_vqe, metrics_qaoa])\n",
        "    x = np.arange(3)\n",
        "\n",
        "    ax2.bar(x - width, metrics[:,0], width, label='Expected Return (%)', color='lightgreen')\n",
        "    ax2.bar(x, metrics[:,1], width, label='Risk (%)', color='coral')\n",
        "    ax2.bar(x + width, metrics[:,2], width, label='Sharpe Ratio', color='purple')\n",
        "\n",
        "    ax2.set_ylabel('Value')\n",
        "    ax2.set_title('Performance Metrics Comparison')\n",
        "    ax2.set_xticks(x)\n",
        "    ax2.set_xticklabels(['Classical', 'VQE', 'QAOA'])\n",
        "    ax2.legend()\n",
        "    ax2.grid(True, alpha=0.3)\n",
        "\n",
        "    plt.tight_layout()\n",
        "    plt.show()"
      ],
      "metadata": {
        "id": "P612K84sNIhu"
      },
      "execution_count": null,
      "outputs": []
    },
    {
      "cell_type": "markdown",
      "source": [
        "## **Usage Example**"
      ],
      "metadata": {
        "id": "hesldVWypGAJ"
      }
    },
    {
      "cell_type": "code",
      "source": [
        "if __name__ == \"__main__\":\n",
        "    compare_optimization_methods()\n",
        "    plot_portfolio_results()"
      ],
      "metadata": {
        "colab": {
          "base_uri": "https://localhost:8080/",
          "height": 1000
        },
        "id": "ceLrJdkQopyx",
        "outputId": "49f82826-f308-43c1-e35d-d4c682920e7b"
      },
      "execution_count": null,
      "outputs": [
        {
          "output_type": "stream",
          "name": "stdout",
          "text": [
            "VQE Iteration 0, Cost: -0.0015\n",
            "VQE Iteration 10, Cost: -0.0015\n",
            "VQE Iteration 20, Cost: -0.0015\n",
            "VQE Iteration 30, Cost: -0.0015\n",
            "VQE Iteration 40, Cost: -0.0015\n",
            "QAOA Iteration 0, Cost: -0.0012\n",
            "QAOA Iteration 10, Cost: -0.0012\n",
            "QAOA Iteration 20, Cost: -0.0012\n",
            "QAOA Iteration 30, Cost: -0.0012\n",
            "QAOA Iteration 40, Cost: -0.0013\n",
            "\n",
            "Classical Portfolio:\n",
            "Weights: [0.25 0.25 0.25 0.25]\n",
            "Expected Return: 0.0015\n",
            "Risk: 0.0100\n",
            "Sharpe Ratio: 0.1466\n",
            "Computation Time: 0.0008 seconds\n",
            "\n",
            "VQE Portfolio:\n",
            "Weights: [0.02162327 0.01671999 0.7190082  0.24264853]\n",
            "Expected Return: 0.0016\n",
            "Risk: 0.0155\n",
            "Sharpe Ratio: 0.1037\n",
            "Computation Time: 4.3290 seconds\n",
            "\n",
            "QAOA Portfolio:\n",
            "Weights: [0.41869763 0.2227408  0.2227408  0.13582076]\n",
            "Expected Return: 0.0013\n",
            "Risk: 0.0102\n",
            "Sharpe Ratio: 0.1278\n",
            "Computation Time: 3.9282 seconds\n",
            "VQE Iteration 0, Cost: -0.0015\n",
            "VQE Iteration 10, Cost: -0.0015\n",
            "VQE Iteration 20, Cost: -0.0015\n",
            "VQE Iteration 30, Cost: -0.0015\n",
            "VQE Iteration 40, Cost: -0.0015\n",
            "QAOA Iteration 0, Cost: -0.0012\n",
            "QAOA Iteration 10, Cost: -0.0012\n",
            "QAOA Iteration 20, Cost: -0.0012\n",
            "QAOA Iteration 30, Cost: -0.0012\n",
            "QAOA Iteration 40, Cost: -0.0013\n"
          ]
        },
        {
          "output_type": "display_data",
          "data": {
            "text/plain": [
              "<Figure size 1200x1000 with 2 Axes>"
            ],
            "image/png": "[encoded data removed]"
          },
          "metadata": {}
        }
      ]
    },
    {
      "cell_type": "markdown",
      "source": [
        "The implementation above demonstrates the use of quantum algorithms for portfolio optimization, comparing classical, VQE, and QAOA approaches. The results are visualized using matplotlib for easy comparison of portfolio weights and performance metrics.\n",
        "\n",
        "### Results Discussion\n",
        "The comparison shows:\n",
        "1. Weight distribution differences between classical and quantum approaches\n",
        "2. Performance metrics including expected returns, risk, and Sharpe ratios\n",
        "3. Computation time comparisons between methods\n",
        "\n",
        "For the test case with 4 assets, we observe that:\n",
        "- Classical optimization provides equal weight distribution\n",
        "- VQE tends to find more concentrated portfolios\n",
        "- QAOA produces intermediate concentration levels"
      ],
      "metadata": {
        "id": "nN-Uufk-pOJ5"
      }
    }
  ]
}